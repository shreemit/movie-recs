{
 "cells": [
  {
   "cell_type": "code",
   "execution_count": 1,
   "metadata": {},
   "outputs": [],
   "source": [
    "import sys\n",
    "sys.path.insert(0, '/Users/shreemit/Developer/movie-recs')\n",
    "import numpy as np\n",
    "from tqdm.notebook import tqdm"
   ]
  },
  {
   "cell_type": "code",
   "execution_count": 2,
   "metadata": {},
   "outputs": [
    {
     "name": "stderr",
     "output_type": "stream",
     "text": [
      "/Users/shreemit/miniforge3/envs/leaseGPT/lib/python3.11/site-packages/pandas/core/arrays/masked.py:60: UserWarning: Pandas requires version '1.3.6' or newer of 'bottleneck' (version '1.3.5' currently installed).\n",
      "  from pandas.core import (\n"
     ]
    }
   ],
   "source": [
    "import pandas as pd\n",
    "from filters.colab_filter import CollaborativeMovieRecommender\n",
    "from filters.content_based import ContentBasedRecommender\n",
    "from filters.recommender import Recommender\n"
   ]
  },
  {
   "cell_type": "code",
   "execution_count": 3,
   "metadata": {},
   "outputs": [],
   "source": [
    "test_data = pd.read_csv('/Users/shreemit/Developer/movie-recs/test_data.csv')"
   ]
  },
  {
   "cell_type": "code",
   "execution_count": 4,
   "metadata": {},
   "outputs": [
    {
     "name": "stdout",
     "output_type": "stream",
     "text": [
      "[7282, 7408, 24, 7316, 7409]\n"
     ]
    }
   ],
   "source": [
    "recommender = Recommender(ratings_path='/Users/shreemit/Developer/movie-recs/train_data.csv',\n",
    "                            movies_path='/Users/shreemit/Developer/movie-recs/merge_movies.csv',\n",
    "                            movie_features_path='/Users/shreemit/Developer/movie-recs/movie_features.pkl')\n",
    "recommended_movies = recommender.recommend_movies(user_id=2, method='content_based')\n",
    "print(recommended_movies)"
   ]
  },
  {
   "cell_type": "code",
   "execution_count": null,
   "metadata": {},
   "outputs": [],
   "source": []
  },
  {
   "cell_type": "code",
   "execution_count": 5,
   "metadata": {},
   "outputs": [
    {
     "data": {
      "application/vnd.jupyter.widget-view+json": {
       "model_id": "ff8415e340894ee98f7f13797fa620f6",
       "version_major": 2,
       "version_minor": 0
      },
      "text/plain": [
       "  0%|          | 0/610 [00:00<?, ?it/s]"
      ]
     },
     "metadata": {},
     "output_type": "display_data"
    }
   ],
   "source": [
    "# looping through the test data to get the recommended movies for each user\n",
    "results_colab = []\n",
    "for user_id in tqdm(test_data['userId'].unique()):\n",
    "    recommended_movies = recommender.recommend_movies(method='colab_filter',\n",
    "                                                      user_id=user_id)\n",
    "    results_colab.append({'userId': user_id, 'movieId': recommended_movies})\n",
    "\n",
    "results_df = pd.DataFrame(results_colab)"
   ]
  },
  {
   "cell_type": "code",
   "execution_count": 6,
   "metadata": {},
   "outputs": [
    {
     "data": {
      "application/vnd.jupyter.widget-view+json": {
       "model_id": "3a0941544c7340e7a3829f434b5ce0f3",
       "version_major": 2,
       "version_minor": 0
      },
      "text/plain": [
       "  0%|          | 0/610 [00:00<?, ?it/s]"
      ]
     },
     "metadata": {},
     "output_type": "display_data"
    },
    {
     "ename": "NameError",
     "evalue": "name 'recommend_movies' is not defined",
     "output_type": "error",
     "traceback": [
      "\u001b[0;31m---------------------------------------------------------------------------\u001b[0m",
      "\u001b[0;31mNameError\u001b[0m                                 Traceback (most recent call last)",
      "Cell \u001b[0;32mIn[6], line 3\u001b[0m\n\u001b[1;32m      1\u001b[0m results_content \u001b[38;5;241m=\u001b[39m []\n\u001b[1;32m      2\u001b[0m \u001b[38;5;28;01mfor\u001b[39;00m user_id \u001b[38;5;129;01min\u001b[39;00m tqdm(test_data[\u001b[38;5;124m'\u001b[39m\u001b[38;5;124muserId\u001b[39m\u001b[38;5;124m'\u001b[39m]\u001b[38;5;241m.\u001b[39munique()):\n\u001b[0;32m----> 3\u001b[0m     recommended_movies \u001b[38;5;241m=\u001b[39m recommend_movies(method\u001b[38;5;241m=\u001b[39m\u001b[38;5;124m'\u001b[39m\u001b[38;5;124mcontent_based\u001b[39m\u001b[38;5;124m'\u001b[39m,\n\u001b[1;32m      4\u001b[0m                                           user_id\u001b[38;5;241m=\u001b[39muser_id, \n\u001b[1;32m      5\u001b[0m                                           ratings_path\u001b[38;5;241m=\u001b[39m\u001b[38;5;124m'\u001b[39m\u001b[38;5;124m/Users/shreemit/Developer/movie-recs/train_data.csv\u001b[39m\u001b[38;5;124m'\u001b[39m, \n\u001b[1;32m      6\u001b[0m                                           movies_path\u001b[38;5;241m=\u001b[39m\u001b[38;5;124m'\u001b[39m\u001b[38;5;124m/Users/shreemit/Developer/movie-recs/merge_movies.csv\u001b[39m\u001b[38;5;124m'\u001b[39m, \n\u001b[1;32m      7\u001b[0m                                           movie_features_path\u001b[38;5;241m=\u001b[39m\u001b[38;5;124m'\u001b[39m\u001b[38;5;124m/Users/shreemit/Developer/movie-recs/movie_features.pkl\u001b[39m\u001b[38;5;124m'\u001b[39m)\n\u001b[1;32m      8\u001b[0m     results_content\u001b[38;5;241m.\u001b[39mappend({\u001b[38;5;124m'\u001b[39m\u001b[38;5;124muserId\u001b[39m\u001b[38;5;124m'\u001b[39m: user_id, \u001b[38;5;124m'\u001b[39m\u001b[38;5;124mmovieId\u001b[39m\u001b[38;5;124m'\u001b[39m: recommended_movies})\n",
      "\u001b[0;31mNameError\u001b[0m: name 'recommend_movies' is not defined"
     ]
    }
   ],
   "source": [
    "results_content = []\n",
    "for user_id in tqdm(test_data['userId'].unique()):\n",
    "    recommended_movies = recommender.recommend_movies(method='content_based',\n",
    "                                                      user_id=user_id)\n",
    "    results_colab.append({'userId': user_id, 'movieId': recommended_movies})\n",
    "\n",
    "results_df = pd.DataFrame(results_colab)"
   ]
  },
  {
   "cell_type": "code",
   "execution_count": null,
   "metadata": {},
   "outputs": [],
   "source": [
    "for id in results:\n",
    "    print(id)\n",
    "    print(id['userId'])\n",
    "    break"
   ]
  },
  {
   "cell_type": "code",
   "execution_count": null,
   "metadata": {},
   "outputs": [],
   "source": [
    "# preparing dict for test data {userId: [movieId]}\n",
    "test_dict = {}\n",
    "# subset of movies with ratings >= 3\n",
    "user_liked_movies = test_data[test_data['rating'] >= 3]\n",
    "for user_id in user_liked_movies['userId'].unique():\n",
    "    test_dict[user_id] = user_liked_movies[user_liked_movies['userId'] == user_id]['movieId'].values\n"
   ]
  },
  {
   "cell_type": "code",
   "execution_count": null,
   "metadata": {},
   "outputs": [],
   "source": [
    "user_liked_movies.head()"
   ]
  },
  {
   "cell_type": "code",
   "execution_count": null,
   "metadata": {},
   "outputs": [],
   "source": [
    "len(test_dict)"
   ]
  },
  {
   "cell_type": "code",
   "execution_count": null,
   "metadata": {},
   "outputs": [],
   "source": [
    "from sklearn.metrics import precision_score, recall_score, f1_score"
   ]
  },
  {
   "cell_type": "code",
   "execution_count": null,
   "metadata": {},
   "outputs": [],
   "source": [
    "def evaluate_recommendations(results_content, test_data):\n",
    "    if len(results_content) != len(test_data):\n",
    "        print(\"Error: Lengths of 'recommended_movies' and 'test_data' do not match.\")\n",
    "    binary_recommendations = np.array([])\n",
    "    for result in results_content:\n",
    "        if result['userId'] not in test_dict:\n",
    "            print(f\"Error: User ID {result['userId']} not found in test data.\")\n",
    "            continue\n",
    "        test_data = set(test_dict[result['userId']])\n",
    "        # binary_recommendation = [int(movie in test_data) for movie in result['movieId']]\n",
    "        for movie in result['movieId']:\n",
    "                # print(result['userId'])\n",
    "            binary_recommendation = [int(movie in test_data)]\n",
    "            if movie in test_data:\n",
    "                break\n",
    "        binary_recommendations = np.append(binary_recommendations,binary_recommendation)\n",
    "        \n",
    "    print(np.count_nonzero(binary_recommendations))\n",
    "    # Calculate precision, recall, and accuracy\n",
    "    true_positives = np.sum(binary_recommendations)\n",
    "    predicted_positives = len(binary_recommendations)\n",
    "    actual_positives = len(test_data)\n",
    "\n",
    "    precision = true_positives / predicted_positives\n",
    "    recall = true_positives / actual_positives\n",
    "    accuracy = true_positives / len(results_content)\n",
    "\n",
    "    # Display the results\n",
    "    print(f'Precision: {precision}')\n",
    "    print(f'Recall: {recall}')\n",
    "    print(f'Accuracy: {accuracy}')\n",
    "\n",
    "\n",
    "    return binary_recommendations"
   ]
  },
  {
   "cell_type": "code",
   "execution_count": null,
   "metadata": {},
   "outputs": [],
   "source": [
    "res = evaluate_recommendations(results_content, test_dict)"
   ]
  },
  {
   "cell_type": "code",
   "execution_count": null,
   "metadata": {},
   "outputs": [],
   "source": [
    "res = evaluate_recommendations(results_colab, test_dict)"
   ]
  },
  {
   "cell_type": "code",
   "execution_count": null,
   "metadata": {},
   "outputs": [],
   "source": [
    "np.count_nonzero(res)"
   ]
  },
  {
   "cell_type": "code",
   "execution_count": null,
   "metadata": {},
   "outputs": [],
   "source": [
    "(test_data['userId'].nunique()), len(results_content)"
   ]
  },
  {
   "cell_type": "code",
   "execution_count": null,
   "metadata": {},
   "outputs": [],
   "source": [
    "results_colab"
   ]
  },
  {
   "cell_type": "code",
   "execution_count": null,
   "metadata": {},
   "outputs": [],
   "source": [
    "for result in results_colab:\n",
    "    test_set = set(test_dict[result['userId']])\n",
    "    for movie in result['movieId']:\n",
    "        if movie in test_set:\n",
    "            print(result['userId'])\n",
    "        "
   ]
  },
  {
   "cell_type": "code",
   "execution_count": null,
   "metadata": {},
   "outputs": [],
   "source": [
    "# manually checking the results\n",
    "for result in results_content[0]['movieId']:\n",
    "    movie = movies[movies['movieId'] == result]\n",
    "    print(result)\n",
    "    print(str(movie['title']))"
   ]
  },
  {
   "cell_type": "code",
   "execution_count": null,
   "metadata": {},
   "outputs": [],
   "source": [
    "results_content[0]['movieId']"
   ]
  },
  {
   "cell_type": "code",
   "execution_count": null,
   "metadata": {},
   "outputs": [],
   "source": []
  }
 ],
 "metadata": {
  "kernelspec": {
   "display_name": "leaseGPT",
   "language": "python",
   "name": "python3"
  },
  "language_info": {
   "codemirror_mode": {
    "name": "ipython",
    "version": 3
   },
   "file_extension": ".py",
   "mimetype": "text/x-python",
   "name": "python",
   "nbconvert_exporter": "python",
   "pygments_lexer": "ipython3",
   "version": "3.11.3"
  }
 },
 "nbformat": 4,
 "nbformat_minor": 2
}
